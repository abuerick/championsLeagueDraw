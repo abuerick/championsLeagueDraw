{
 "cells": [
  {
   "cell_type": "markdown",
   "metadata": {},
   "source": [
    "The Champions League Draw is sure a very intesresting event to watch, if you did watched it, did you notice how every time the hosts pull out the name of a team the system automatically knows in which pot the team could be possibly allocated taking all the rules into account?\n",
    "\n",
    "Well I'm going to try to replicate exactly what the system did, so it will very fun to make our own simulation of the 2022 Champios League Draw\n",
    "\n",
    "In this experiment I will use different tools and methods in order to practice but of course there is no a single way of doing it, think about this experiment and how would you do it"
   ]
  },
  {
   "cell_type": "markdown",
   "metadata": {},
   "source": [
    "The first step is to get the teams that are going to be playing this exciting tournament, therefore instead of creating a manual list, I'm going to scrap the data from a Sports website called 'Goal'"
   ]
  },
  {
   "cell_type": "code",
   "execution_count": null,
   "metadata": {},
   "outputs": [],
   "source": [
    "import pandas as pd\n",
    "import ssl\n",
    "\n",
    "ssl._create_default_https_context = ssl._create_unverified_context\n",
    "\n",
    "scraper = pd.read_html('https://www.goal.com/en-gb/news/champions-league-2022-23-group-stage-draw-date-time-teams/blt576b8b8fd09f9bcc')\n",
    "\n",
    "scraper\n"
   ]
  },
  {
   "cell_type": "markdown",
   "metadata": {},
   "source": [
    "With this method we are only getting the HTML Tables from that specific website, so we require the second table, lets enumerate the index and the table to know what is the index of the table we are seeking"
   ]
  },
  {
   "cell_type": "code",
   "execution_count": null,
   "metadata": {},
   "outputs": [],
   "source": [
    "\n",
    "for idx, table in enumerate(scraper):\n",
    "    print(\"*********************\")\n",
    "    print(idx)\n",
    "    print(table)"
   ]
  },
  {
   "cell_type": "markdown",
   "metadata": {},
   "source": [
    "The table containing the pots has the index '0' so now is just a matter of subsetting our object and creating the dataframe"
   ]
  },
  {
   "cell_type": "code",
   "execution_count": 248,
   "metadata": {},
   "outputs": [
    {
     "data": {
      "text/html": [
       "<div>\n",
       "<style scoped>\n",
       "    .dataframe tbody tr th:only-of-type {\n",
       "        vertical-align: middle;\n",
       "    }\n",
       "\n",
       "    .dataframe tbody tr th {\n",
       "        vertical-align: top;\n",
       "    }\n",
       "\n",
       "    .dataframe thead th {\n",
       "        text-align: right;\n",
       "    }\n",
       "</style>\n",
       "<table border=\"1\" class=\"dataframe\">\n",
       "  <thead>\n",
       "    <tr style=\"text-align: right;\">\n",
       "      <th></th>\n",
       "      <th>Pot 1</th>\n",
       "      <th>Pot 2</th>\n",
       "      <th>Pot 3</th>\n",
       "      <th>Pot 4</th>\n",
       "    </tr>\n",
       "  </thead>\n",
       "  <tbody>\n",
       "    <tr>\n",
       "      <th>0</th>\n",
       "      <td>Real Madrid</td>\n",
       "      <td>Liverpool</td>\n",
       "      <td>Borussia Dortmund</td>\n",
       "      <td>Club Brugge</td>\n",
       "    </tr>\n",
       "    <tr>\n",
       "      <th>1</th>\n",
       "      <td>Eintracht Frankfurt</td>\n",
       "      <td>Chelsea</td>\n",
       "      <td>Salzburg</td>\n",
       "      <td>Celtic</td>\n",
       "    </tr>\n",
       "    <tr>\n",
       "      <th>2</th>\n",
       "      <td>Manchester City</td>\n",
       "      <td>Barcelona</td>\n",
       "      <td>Shakhtar Donetsk</td>\n",
       "      <td>Maccabi Haifa</td>\n",
       "    </tr>\n",
       "    <tr>\n",
       "      <th>3</th>\n",
       "      <td>AC Milan</td>\n",
       "      <td>Juventus</td>\n",
       "      <td>Inter</td>\n",
       "      <td>Viktoria Plzen</td>\n",
       "    </tr>\n",
       "    <tr>\n",
       "      <th>4</th>\n",
       "      <td>Bayern München</td>\n",
       "      <td>Atletico de Madrid</td>\n",
       "      <td>Napoli</td>\n",
       "      <td>Marseille</td>\n",
       "    </tr>\n",
       "    <tr>\n",
       "      <th>5</th>\n",
       "      <td>Paris Saint-Germain</td>\n",
       "      <td>Sevilla</td>\n",
       "      <td>Sporting CP</td>\n",
       "      <td>Rangers</td>\n",
       "    </tr>\n",
       "    <tr>\n",
       "      <th>6</th>\n",
       "      <td>Porto</td>\n",
       "      <td>RB Leipzig</td>\n",
       "      <td>Bayer Leverkusen</td>\n",
       "      <td>Dinamo Zagreb</td>\n",
       "    </tr>\n",
       "    <tr>\n",
       "      <th>7</th>\n",
       "      <td>Ajax</td>\n",
       "      <td>Tottenham Hotspur</td>\n",
       "      <td>Benfica</td>\n",
       "      <td>Copenhagen</td>\n",
       "    </tr>\n",
       "  </tbody>\n",
       "</table>\n",
       "</div>"
      ],
      "text/plain": [
       "                 Pot 1               Pot 2              Pot 3           Pot 4\n",
       "0          Real Madrid           Liverpool  Borussia Dortmund     Club Brugge\n",
       "1  Eintracht Frankfurt             Chelsea           Salzburg          Celtic\n",
       "2      Manchester City           Barcelona   Shakhtar Donetsk   Maccabi Haifa\n",
       "3             AC Milan            Juventus              Inter  Viktoria Plzen\n",
       "4       Bayern München  Atletico de Madrid             Napoli       Marseille\n",
       "5  Paris Saint-Germain             Sevilla        Sporting CP         Rangers\n",
       "6                Porto          RB Leipzig   Bayer Leverkusen   Dinamo Zagreb\n",
       "7                 Ajax   Tottenham Hotspur            Benfica      Copenhagen"
      ]
     },
     "execution_count": 248,
     "metadata": {},
     "output_type": "execute_result"
    }
   ],
   "source": [
    "pots = pd.DataFrame(scraper[1])\n",
    "\n",
    "pots"
   ]
  },
  {
   "cell_type": "markdown",
   "metadata": {},
   "source": [
    "As mentioned before, the draw has rules, so first we will have to make sure we gather all the necessary data to set those rules in place:\n",
    "\n",
    "1. Two teams from the same football association could not be drawn into the same group. That means, for example, Manchester City and Tottenham Hotspur could not be placed together despite being in different pots.\n",
    "\n",
    "In order to satisfy the first rule we will require the club country, in here I've gather the info from a csv in my local machine just to change the ingestion method"
   ]
  },
  {
   "cell_type": "code",
   "execution_count": null,
   "metadata": {},
   "outputs": [],
   "source": [
    "from typing import Concatenate\n",
    "\n",
    "teams= pd.DataFrame(columns=['club'])\n",
    "\n",
    "teams['club']= pd.concat([pots['Pot 1'], pots['Pot 2'], pots['Pot 3'], pots['Pot 4']])\n",
    "\n",
    "teams\n",
    "\n"
   ]
  },
  {
   "cell_type": "code",
   "execution_count": null,
   "metadata": {},
   "outputs": [],
   "source": [
    "countries = pd.read_csv('/Users/erick/Documents/Projects/championsLeagueDraw/clubsCountries.csv', delimiter=';')\n",
    "countries"
   ]
  },
  {
   "cell_type": "code",
   "execution_count": null,
   "metadata": {},
   "outputs": [],
   "source": [
    "teams = teams.merge(countries, on='club')[['club', 'country_x']].rename(columns={'country_x':'country'})\n",
    "\n",
    "teams"
   ]
  },
  {
   "cell_type": "markdown",
   "metadata": {},
   "source": [
    "Next, we need a data frame with the groups, for the moment is going to be empty and we are going to ingest the teams after"
   ]
  },
  {
   "cell_type": "code",
   "execution_count": 249,
   "metadata": {},
   "outputs": [
    {
     "data": {
      "text/html": [
       "<div>\n",
       "<style scoped>\n",
       "    .dataframe tbody tr th:only-of-type {\n",
       "        vertical-align: middle;\n",
       "    }\n",
       "\n",
       "    .dataframe tbody tr th {\n",
       "        vertical-align: top;\n",
       "    }\n",
       "\n",
       "    .dataframe thead th {\n",
       "        text-align: right;\n",
       "    }\n",
       "</style>\n",
       "<table border=\"1\" class=\"dataframe\">\n",
       "  <thead>\n",
       "    <tr style=\"text-align: right;\">\n",
       "      <th></th>\n",
       "      <th>A</th>\n",
       "      <th>B</th>\n",
       "      <th>C</th>\n",
       "      <th>D</th>\n",
       "      <th>E</th>\n",
       "      <th>F</th>\n",
       "      <th>G</th>\n",
       "      <th>H</th>\n",
       "    </tr>\n",
       "  </thead>\n",
       "  <tbody>\n",
       "  </tbody>\n",
       "</table>\n",
       "</div>"
      ],
      "text/plain": [
       "Empty DataFrame\n",
       "Columns: [A, B, C, D, E, F, G, H]\n",
       "Index: []"
      ]
     },
     "execution_count": 249,
     "metadata": {},
     "output_type": "execute_result"
    }
   ],
   "source": [
    "groups = pd.DataFrame(columns=['A', 'B', 'C', 'D', 'E', 'F', 'G', 'H'])\n",
    "groups"
   ]
  },
  {
   "cell_type": "markdown",
   "metadata": {},
   "source": [
    "Let's start with the first teams, these are going to be allocated one per group so in here there's no limitation, we will fill them in order into the first position"
   ]
  },
  {
   "cell_type": "code",
   "execution_count": 254,
   "metadata": {},
   "outputs": [
    {
     "name": "stderr",
     "output_type": "stream",
     "text": [
      "/Library/Frameworks/Python.framework/Versions/3.10/lib/python3.10/site-packages/pandas/core/common.py:241: VisibleDeprecationWarning: Creating an ndarray from ragged nested sequences (which is a list-or-tuple of lists-or-tuples-or ndarrays with different lengths or shapes) is deprecated. If you meant to do this, you must specify 'dtype=object' when creating the ndarray.\n",
      "  result = np.asarray(values, dtype=dtype)\n"
     ]
    },
    {
     "ename": "TypeError",
     "evalue": "unhashable type: 'Series'",
     "output_type": "error",
     "traceback": [
      "\u001b[0;31m---------------------------------------------------------------------------\u001b[0m",
      "\u001b[0;31mTypeError\u001b[0m                                 Traceback (most recent call last)",
      "File \u001b[0;32m/Library/Frameworks/Python.framework/Versions/3.10/lib/python3.10/site-packages/pandas/core/frame.py:3868\u001b[0m, in \u001b[0;36mDataFrame._set_value\u001b[0;34m(self, index, col, value, takeable)\u001b[0m\n\u001b[1;32m   3867\u001b[0m \u001b[39melse\u001b[39;00m:\n\u001b[0;32m-> 3868\u001b[0m     series \u001b[39m=\u001b[39m \u001b[39mself\u001b[39;49m\u001b[39m.\u001b[39;49m_get_item_cache(col)\n\u001b[1;32m   3869\u001b[0m     loc \u001b[39m=\u001b[39m \u001b[39mself\u001b[39m\u001b[39m.\u001b[39mindex\u001b[39m.\u001b[39mget_loc(index)\n",
      "File \u001b[0;32m/Library/Frameworks/Python.framework/Versions/3.10/lib/python3.10/site-packages/pandas/core/frame.py:3926\u001b[0m, in \u001b[0;36mDataFrame._get_item_cache\u001b[0;34m(self, item)\u001b[0m\n\u001b[1;32m   3925\u001b[0m cache \u001b[39m=\u001b[39m \u001b[39mself\u001b[39m\u001b[39m.\u001b[39m_item_cache\n\u001b[0;32m-> 3926\u001b[0m res \u001b[39m=\u001b[39m cache\u001b[39m.\u001b[39;49mget(item)\n\u001b[1;32m   3927\u001b[0m \u001b[39mif\u001b[39;00m res \u001b[39mis\u001b[39;00m \u001b[39mNone\u001b[39;00m:\n\u001b[1;32m   3928\u001b[0m     \u001b[39m# All places that call _get_item_cache have unique columns,\u001b[39;00m\n\u001b[1;32m   3929\u001b[0m     \u001b[39m#  pending resolution of GH#33047\u001b[39;00m\n",
      "\u001b[0;31mTypeError\u001b[0m: unhashable type: 'Series'",
      "\nDuring handling of the above exception, another exception occurred:\n",
      "\u001b[0;31mTypeError\u001b[0m                                 Traceback (most recent call last)",
      "\u001b[1;32m/Users/erick/Documents/Projects/championsLeagueDraw/analysis.ipynb Cell 15\u001b[0m in \u001b[0;36m<cell line: 5>\u001b[0;34m()\u001b[0m\n\u001b[1;32m      <a href='vscode-notebook-cell:/Users/erick/Documents/Projects/championsLeagueDraw/analysis.ipynb#X55sZmlsZQ%3D%3D?line=6'>7</a>\u001b[0m number \u001b[39m=\u001b[39m np\u001b[39m.\u001b[39mrandom\u001b[39m.\u001b[39mrandint(low\u001b[39m=\u001b[39m\u001b[39m0\u001b[39m, high\u001b[39m=\u001b[39m\u001b[39m7\u001b[39m,dtype\u001b[39m=\u001b[39m\u001b[39mint\u001b[39m)\n\u001b[1;32m      <a href='vscode-notebook-cell:/Users/erick/Documents/Projects/championsLeagueDraw/analysis.ipynb#X55sZmlsZQ%3D%3D?line=7'>8</a>\u001b[0m selection \u001b[39m=\u001b[39m pots\u001b[39m.\u001b[39mat[number, \u001b[39m'\u001b[39m\u001b[39mPot 1\u001b[39m\u001b[39m'\u001b[39m]\n\u001b[0;32m----> <a href='vscode-notebook-cell:/Users/erick/Documents/Projects/championsLeagueDraw/analysis.ipynb#X55sZmlsZQ%3D%3D?line=8'>9</a>\u001b[0m groups\u001b[39m.\u001b[39;49mat[\u001b[39m0\u001b[39;49m,y] \u001b[39m=\u001b[39m selection\n\u001b[1;32m     <a href='vscode-notebook-cell:/Users/erick/Documents/Projects/championsLeagueDraw/analysis.ipynb#X55sZmlsZQ%3D%3D?line=9'>10</a>\u001b[0m pots\u001b[39m.\u001b[39mat[number, \u001b[39m'\u001b[39m\u001b[39mPot 1\u001b[39m\u001b[39m'\u001b[39m] \u001b[39m=\u001b[39m \u001b[39m'\u001b[39m\u001b[39m'\u001b[39m\n",
      "File \u001b[0;32m/Library/Frameworks/Python.framework/Versions/3.10/lib/python3.10/site-packages/pandas/core/indexing.py:2281\u001b[0m, in \u001b[0;36m_AtIndexer.__setitem__\u001b[0;34m(self, key, value)\u001b[0m\n\u001b[1;32m   2278\u001b[0m     \u001b[39mself\u001b[39m\u001b[39m.\u001b[39mobj\u001b[39m.\u001b[39mloc[key] \u001b[39m=\u001b[39m value\n\u001b[1;32m   2279\u001b[0m     \u001b[39mreturn\u001b[39;00m\n\u001b[0;32m-> 2281\u001b[0m \u001b[39mreturn\u001b[39;00m \u001b[39msuper\u001b[39;49m()\u001b[39m.\u001b[39;49m\u001b[39m__setitem__\u001b[39;49m(key, value)\n",
      "File \u001b[0;32m/Library/Frameworks/Python.framework/Versions/3.10/lib/python3.10/site-packages/pandas/core/indexing.py:2236\u001b[0m, in \u001b[0;36m_ScalarAccessIndexer.__setitem__\u001b[0;34m(self, key, value)\u001b[0m\n\u001b[1;32m   2233\u001b[0m \u001b[39mif\u001b[39;00m \u001b[39mlen\u001b[39m(key) \u001b[39m!=\u001b[39m \u001b[39mself\u001b[39m\u001b[39m.\u001b[39mndim:\n\u001b[1;32m   2234\u001b[0m     \u001b[39mraise\u001b[39;00m \u001b[39mValueError\u001b[39;00m(\u001b[39m\"\u001b[39m\u001b[39mNot enough indexers for scalar access (setting)!\u001b[39m\u001b[39m\"\u001b[39m)\n\u001b[0;32m-> 2236\u001b[0m \u001b[39mself\u001b[39;49m\u001b[39m.\u001b[39;49mobj\u001b[39m.\u001b[39;49m_set_value(\u001b[39m*\u001b[39;49mkey, value\u001b[39m=\u001b[39;49mvalue, takeable\u001b[39m=\u001b[39;49m\u001b[39mself\u001b[39;49m\u001b[39m.\u001b[39;49m_takeable)\n",
      "File \u001b[0;32m/Library/Frameworks/Python.framework/Versions/3.10/lib/python3.10/site-packages/pandas/core/frame.py:3880\u001b[0m, in \u001b[0;36mDataFrame._set_value\u001b[0;34m(self, index, col, value, takeable)\u001b[0m\n\u001b[1;32m   3878\u001b[0m     \u001b[39mself\u001b[39m\u001b[39m.\u001b[39miloc[index, col] \u001b[39m=\u001b[39m value\n\u001b[1;32m   3879\u001b[0m \u001b[39melse\u001b[39;00m:\n\u001b[0;32m-> 3880\u001b[0m     \u001b[39mself\u001b[39;49m\u001b[39m.\u001b[39;49mloc[index, col] \u001b[39m=\u001b[39m value\n\u001b[1;32m   3881\u001b[0m \u001b[39mself\u001b[39m\u001b[39m.\u001b[39m_item_cache\u001b[39m.\u001b[39mpop(col, \u001b[39mNone\u001b[39;00m)\n",
      "File \u001b[0;32m/Library/Frameworks/Python.framework/Versions/3.10/lib/python3.10/site-packages/pandas/core/indexing.py:712\u001b[0m, in \u001b[0;36m_LocationIndexer.__setitem__\u001b[0;34m(self, key, value)\u001b[0m\n\u001b[1;32m    710\u001b[0m \u001b[39melse\u001b[39;00m:\n\u001b[1;32m    711\u001b[0m     key \u001b[39m=\u001b[39m com\u001b[39m.\u001b[39mapply_if_callable(key, \u001b[39mself\u001b[39m\u001b[39m.\u001b[39mobj)\n\u001b[0;32m--> 712\u001b[0m indexer \u001b[39m=\u001b[39m \u001b[39mself\u001b[39;49m\u001b[39m.\u001b[39;49m_get_setitem_indexer(key)\n\u001b[1;32m    713\u001b[0m \u001b[39mself\u001b[39m\u001b[39m.\u001b[39m_has_valid_setitem_indexer(key)\n\u001b[1;32m    715\u001b[0m iloc \u001b[39m=\u001b[39m \u001b[39mself\u001b[39m \u001b[39mif\u001b[39;00m \u001b[39mself\u001b[39m\u001b[39m.\u001b[39mname \u001b[39m==\u001b[39m \u001b[39m\"\u001b[39m\u001b[39miloc\u001b[39m\u001b[39m\"\u001b[39m \u001b[39melse\u001b[39;00m \u001b[39mself\u001b[39m\u001b[39m.\u001b[39mobj\u001b[39m.\u001b[39miloc\n",
      "File \u001b[0;32m/Library/Frameworks/Python.framework/Versions/3.10/lib/python3.10/site-packages/pandas/core/indexing.py:661\u001b[0m, in \u001b[0;36m_LocationIndexer._get_setitem_indexer\u001b[0;34m(self, key)\u001b[0m\n\u001b[1;32m    659\u001b[0m \u001b[39mif\u001b[39;00m \u001b[39misinstance\u001b[39m(key, \u001b[39mtuple\u001b[39m):\n\u001b[1;32m    660\u001b[0m     \u001b[39mwith\u001b[39;00m suppress(IndexingError):\n\u001b[0;32m--> 661\u001b[0m         \u001b[39mreturn\u001b[39;00m \u001b[39mself\u001b[39;49m\u001b[39m.\u001b[39;49m_convert_tuple(key)\n\u001b[1;32m    663\u001b[0m \u001b[39mif\u001b[39;00m \u001b[39misinstance\u001b[39m(key, \u001b[39mrange\u001b[39m):\n\u001b[1;32m    664\u001b[0m     \u001b[39mreturn\u001b[39;00m \u001b[39mlist\u001b[39m(key)\n",
      "File \u001b[0;32m/Library/Frameworks/Python.framework/Versions/3.10/lib/python3.10/site-packages/pandas/core/indexing.py:799\u001b[0m, in \u001b[0;36m_LocationIndexer._convert_tuple\u001b[0;34m(self, key)\u001b[0m\n\u001b[1;32m    797\u001b[0m     \u001b[39mself\u001b[39m\u001b[39m.\u001b[39m_validate_key_length(key)\n\u001b[1;32m    798\u001b[0m     \u001b[39mfor\u001b[39;00m i, k \u001b[39min\u001b[39;00m \u001b[39menumerate\u001b[39m(key):\n\u001b[0;32m--> 799\u001b[0m         idx \u001b[39m=\u001b[39m \u001b[39mself\u001b[39;49m\u001b[39m.\u001b[39;49m_convert_to_indexer(k, axis\u001b[39m=\u001b[39;49mi)\n\u001b[1;32m    800\u001b[0m         keyidx\u001b[39m.\u001b[39mappend(idx)\n\u001b[1;32m    802\u001b[0m \u001b[39mreturn\u001b[39;00m \u001b[39mtuple\u001b[39m(keyidx)\n",
      "File \u001b[0;32m/Library/Frameworks/Python.framework/Versions/3.10/lib/python3.10/site-packages/pandas/core/indexing.py:1291\u001b[0m, in \u001b[0;36m_LocIndexer._convert_to_indexer\u001b[0;34m(self, key, axis)\u001b[0m\n\u001b[1;32m   1289\u001b[0m         \u001b[39mreturn\u001b[39;00m inds\n\u001b[1;32m   1290\u001b[0m     \u001b[39melse\u001b[39;00m:\n\u001b[0;32m-> 1291\u001b[0m         \u001b[39mreturn\u001b[39;00m \u001b[39mself\u001b[39;49m\u001b[39m.\u001b[39;49m_get_listlike_indexer(key, axis)[\u001b[39m1\u001b[39m]\n\u001b[1;32m   1292\u001b[0m \u001b[39melse\u001b[39;00m:\n\u001b[1;32m   1293\u001b[0m     \u001b[39mtry\u001b[39;00m:\n",
      "File \u001b[0;32m/Library/Frameworks/Python.framework/Versions/3.10/lib/python3.10/site-packages/pandas/core/indexing.py:1327\u001b[0m, in \u001b[0;36m_LocIndexer._get_listlike_indexer\u001b[0;34m(self, key, axis)\u001b[0m\n\u001b[1;32m   1324\u001b[0m ax \u001b[39m=\u001b[39m \u001b[39mself\u001b[39m\u001b[39m.\u001b[39mobj\u001b[39m.\u001b[39m_get_axis(axis)\n\u001b[1;32m   1325\u001b[0m axis_name \u001b[39m=\u001b[39m \u001b[39mself\u001b[39m\u001b[39m.\u001b[39mobj\u001b[39m.\u001b[39m_get_axis_name(axis)\n\u001b[0;32m-> 1327\u001b[0m keyarr, indexer \u001b[39m=\u001b[39m ax\u001b[39m.\u001b[39;49m_get_indexer_strict(key, axis_name)\n\u001b[1;32m   1329\u001b[0m \u001b[39mreturn\u001b[39;00m keyarr, indexer\n",
      "File \u001b[0;32m/Library/Frameworks/Python.framework/Versions/3.10/lib/python3.10/site-packages/pandas/core/indexes/base.py:5777\u001b[0m, in \u001b[0;36mIndex._get_indexer_strict\u001b[0;34m(self, key, axis_name)\u001b[0m\n\u001b[1;32m   5774\u001b[0m     keyarr \u001b[39m=\u001b[39m com\u001b[39m.\u001b[39masarray_tuplesafe(keyarr)\n\u001b[1;32m   5776\u001b[0m \u001b[39mif\u001b[39;00m \u001b[39mself\u001b[39m\u001b[39m.\u001b[39m_index_as_unique:\n\u001b[0;32m-> 5777\u001b[0m     indexer \u001b[39m=\u001b[39m \u001b[39mself\u001b[39;49m\u001b[39m.\u001b[39;49mget_indexer_for(keyarr)\n\u001b[1;32m   5778\u001b[0m     keyarr \u001b[39m=\u001b[39m \u001b[39mself\u001b[39m\u001b[39m.\u001b[39mreindex(keyarr)[\u001b[39m0\u001b[39m]\n\u001b[1;32m   5779\u001b[0m \u001b[39melse\u001b[39;00m:\n",
      "File \u001b[0;32m/Library/Frameworks/Python.framework/Versions/3.10/lib/python3.10/site-packages/pandas/core/indexes/base.py:5764\u001b[0m, in \u001b[0;36mIndex.get_indexer_for\u001b[0;34m(self, target)\u001b[0m\n\u001b[1;32m   5746\u001b[0m \u001b[39m\"\"\"\u001b[39;00m\n\u001b[1;32m   5747\u001b[0m \u001b[39mGuaranteed return of an indexer even when non-unique.\u001b[39;00m\n\u001b[1;32m   5748\u001b[0m \n\u001b[0;32m   (...)\u001b[0m\n\u001b[1;32m   5761\u001b[0m \u001b[39marray([0, 2])\u001b[39;00m\n\u001b[1;32m   5762\u001b[0m \u001b[39m\"\"\"\u001b[39;00m\n\u001b[1;32m   5763\u001b[0m \u001b[39mif\u001b[39;00m \u001b[39mself\u001b[39m\u001b[39m.\u001b[39m_index_as_unique:\n\u001b[0;32m-> 5764\u001b[0m     \u001b[39mreturn\u001b[39;00m \u001b[39mself\u001b[39;49m\u001b[39m.\u001b[39;49mget_indexer(target)\n\u001b[1;32m   5765\u001b[0m indexer, _ \u001b[39m=\u001b[39m \u001b[39mself\u001b[39m\u001b[39m.\u001b[39mget_indexer_non_unique(target)\n\u001b[1;32m   5766\u001b[0m \u001b[39mreturn\u001b[39;00m indexer\n",
      "File \u001b[0;32m/Library/Frameworks/Python.framework/Versions/3.10/lib/python3.10/site-packages/pandas/core/indexes/base.py:3784\u001b[0m, in \u001b[0;36mIndex.get_indexer\u001b[0;34m(self, target, method, limit, tolerance)\u001b[0m\n\u001b[1;32m   3779\u001b[0m     target \u001b[39m=\u001b[39m target\u001b[39m.\u001b[39mastype(dtype, copy\u001b[39m=\u001b[39m\u001b[39mFalse\u001b[39;00m)\n\u001b[1;32m   3780\u001b[0m     \u001b[39mreturn\u001b[39;00m this\u001b[39m.\u001b[39m_get_indexer(\n\u001b[1;32m   3781\u001b[0m         target, method\u001b[39m=\u001b[39mmethod, limit\u001b[39m=\u001b[39mlimit, tolerance\u001b[39m=\u001b[39mtolerance\n\u001b[1;32m   3782\u001b[0m     )\n\u001b[0;32m-> 3784\u001b[0m \u001b[39mreturn\u001b[39;00m \u001b[39mself\u001b[39;49m\u001b[39m.\u001b[39;49m_get_indexer(target, method, limit, tolerance)\n",
      "File \u001b[0;32m/Library/Frameworks/Python.framework/Versions/3.10/lib/python3.10/site-packages/pandas/core/indexes/base.py:3809\u001b[0m, in \u001b[0;36mIndex._get_indexer\u001b[0;34m(self, target, method, limit, tolerance)\u001b[0m\n\u001b[1;32m   3804\u001b[0m         \u001b[39m# error: \"IndexEngine\" has no attribute \"_extract_level_codes\"\u001b[39;00m\n\u001b[1;32m   3805\u001b[0m         tgt_values \u001b[39m=\u001b[39m engine\u001b[39m.\u001b[39m_extract_level_codes(  \u001b[39m# type: ignore[attr-defined]\u001b[39;00m\n\u001b[1;32m   3806\u001b[0m             target\n\u001b[1;32m   3807\u001b[0m         )\n\u001b[0;32m-> 3809\u001b[0m     indexer \u001b[39m=\u001b[39m \u001b[39mself\u001b[39;49m\u001b[39m.\u001b[39;49m_engine\u001b[39m.\u001b[39;49mget_indexer(tgt_values)\n\u001b[1;32m   3811\u001b[0m \u001b[39mreturn\u001b[39;00m ensure_platform_int(indexer)\n",
      "File \u001b[0;32m/Library/Frameworks/Python.framework/Versions/3.10/lib/python3.10/site-packages/pandas/_libs/index.pyx:305\u001b[0m, in \u001b[0;36mpandas._libs.index.IndexEngine.get_indexer\u001b[0;34m()\u001b[0m\n",
      "File \u001b[0;32mpandas/_libs/hashtable_class_helper.pxi:5247\u001b[0m, in \u001b[0;36mpandas._libs.hashtable.PyObjectHashTable.lookup\u001b[0;34m()\u001b[0m\n",
      "\u001b[0;31mTypeError\u001b[0m: unhashable type: 'Series'"
     ]
    }
   ],
   "source": [
    "import numpy as np\n",
    "\n",
    "number=8\n",
    "\n",
    "for x in range(len(pots)):\n",
    "    for y in groups.iteritems():\n",
    "        number = np.random.randint(low=0, high=7,dtype=int\n",
    "        selection = pots.at[number, 'Pot 1']\n",
    "        groups.at[0,y] = selection\n",
    "        pots.at[number, 'Pot 1'] = ''\n",
    "        "
   ]
  },
  {
   "cell_type": "code",
   "execution_count": null,
   "metadata": {},
   "outputs": [],
   "source": [
    "groups"
   ]
  },
  {
   "cell_type": "code",
   "execution_count": 251,
   "metadata": {},
   "outputs": [
    {
     "data": {
      "text/plain": [
       "<generator object DataFrame.iteritems at 0x1271a9930>"
      ]
     },
     "execution_count": 251,
     "metadata": {},
     "output_type": "execute_result"
    }
   ],
   "source": [
    "groups.iteritems()"
   ]
  },
  {
   "cell_type": "code",
   "execution_count": 232,
   "metadata": {},
   "outputs": [
    {
     "data": {
      "text/plain": [
       "0"
      ]
     },
     "execution_count": 232,
     "metadata": {},
     "output_type": "execute_result"
    }
   ],
   "source": [
    "import numpy as np\n",
    "\n",
    "number = np.random.randint(low=0, high=7,dtype=int)\n",
    "number"
   ]
  },
  {
   "cell_type": "code",
   "execution_count": 233,
   "metadata": {},
   "outputs": [
    {
     "name": "stdout",
     "output_type": "stream",
     "text": [
      "Real Madrid\n"
     ]
    }
   ],
   "source": [
    "selection = pots.at[number, 'Pot 1']\n",
    "print(selection)\n",
    "\n"
   ]
  },
  {
   "cell_type": "code",
   "execution_count": 234,
   "metadata": {},
   "outputs": [],
   "source": [
    "iA=0\n",
    "iB=0\n",
    "iC=0\n",
    "iD=0\n",
    "iF=0\n",
    "iG=0\n",
    "iH=0"
   ]
  },
  {
   "cell_type": "code",
   "execution_count": 255,
   "metadata": {},
   "outputs": [
    {
     "data": {
      "text/html": [
       "<div>\n",
       "<style scoped>\n",
       "    .dataframe tbody tr th:only-of-type {\n",
       "        vertical-align: middle;\n",
       "    }\n",
       "\n",
       "    .dataframe tbody tr th {\n",
       "        vertical-align: top;\n",
       "    }\n",
       "\n",
       "    .dataframe thead th {\n",
       "        text-align: right;\n",
       "    }\n",
       "</style>\n",
       "<table border=\"1\" class=\"dataframe\">\n",
       "  <thead>\n",
       "    <tr style=\"text-align: right;\">\n",
       "      <th></th>\n",
       "      <th>A</th>\n",
       "      <th>B</th>\n",
       "      <th>C</th>\n",
       "      <th>D</th>\n",
       "      <th>E</th>\n",
       "      <th>F</th>\n",
       "      <th>G</th>\n",
       "      <th>H</th>\n",
       "    </tr>\n",
       "  </thead>\n",
       "  <tbody>\n",
       "    <tr>\n",
       "      <th>1</th>\n",
       "      <td>Paris Saint-Germain</td>\n",
       "      <td>NaN</td>\n",
       "      <td>NaN</td>\n",
       "      <td>NaN</td>\n",
       "      <td>NaN</td>\n",
       "      <td>NaN</td>\n",
       "      <td>NaN</td>\n",
       "      <td>NaN</td>\n",
       "    </tr>\n",
       "  </tbody>\n",
       "</table>\n",
       "</div>"
      ],
      "text/plain": [
       "                     A    B    C    D    E    F    G    H\n",
       "1  Paris Saint-Germain  NaN  NaN  NaN  NaN  NaN  NaN  NaN"
      ]
     },
     "execution_count": 255,
     "metadata": {},
     "output_type": "execute_result"
    }
   ],
   "source": [
    "groups.at[iA ,'A'] = selection\n",
    "iA = iA+1\n",
    "groups"
   ]
  },
  {
   "cell_type": "code",
   "execution_count": 236,
   "metadata": {},
   "outputs": [
    {
     "data": {
      "text/html": [
       "<div>\n",
       "<style scoped>\n",
       "    .dataframe tbody tr th:only-of-type {\n",
       "        vertical-align: middle;\n",
       "    }\n",
       "\n",
       "    .dataframe tbody tr th {\n",
       "        vertical-align: top;\n",
       "    }\n",
       "\n",
       "    .dataframe thead th {\n",
       "        text-align: right;\n",
       "    }\n",
       "</style>\n",
       "<table border=\"1\" class=\"dataframe\">\n",
       "  <thead>\n",
       "    <tr style=\"text-align: right;\">\n",
       "      <th></th>\n",
       "      <th>Pot 1</th>\n",
       "      <th>Pot 2</th>\n",
       "      <th>Pot 3</th>\n",
       "      <th>Pot 4</th>\n",
       "    </tr>\n",
       "  </thead>\n",
       "  <tbody>\n",
       "    <tr>\n",
       "      <th>0</th>\n",
       "      <td></td>\n",
       "      <td>Liverpool</td>\n",
       "      <td>Borussia Dortmund</td>\n",
       "      <td>Club Brugge</td>\n",
       "    </tr>\n",
       "    <tr>\n",
       "      <th>1</th>\n",
       "      <td>Eintracht Frankfurt</td>\n",
       "      <td>Chelsea</td>\n",
       "      <td>Salzburg</td>\n",
       "      <td>Celtic</td>\n",
       "    </tr>\n",
       "    <tr>\n",
       "      <th>2</th>\n",
       "      <td>Manchester City</td>\n",
       "      <td>Barcelona</td>\n",
       "      <td>Shakhtar Donetsk</td>\n",
       "      <td>Maccabi Haifa</td>\n",
       "    </tr>\n",
       "    <tr>\n",
       "      <th>3</th>\n",
       "      <td>AC Milan</td>\n",
       "      <td>Juventus</td>\n",
       "      <td>Inter</td>\n",
       "      <td>Viktoria Plzen</td>\n",
       "    </tr>\n",
       "    <tr>\n",
       "      <th>4</th>\n",
       "      <td>Bayern München</td>\n",
       "      <td>Atletico de Madrid</td>\n",
       "      <td>Napoli</td>\n",
       "      <td>Marseille</td>\n",
       "    </tr>\n",
       "    <tr>\n",
       "      <th>5</th>\n",
       "      <td>Paris Saint-Germain</td>\n",
       "      <td>Sevilla</td>\n",
       "      <td>Sporting CP</td>\n",
       "      <td>Rangers</td>\n",
       "    </tr>\n",
       "    <tr>\n",
       "      <th>6</th>\n",
       "      <td>Porto</td>\n",
       "      <td>RB Leipzig</td>\n",
       "      <td>Bayer Leverkusen</td>\n",
       "      <td>Dinamo Zagreb</td>\n",
       "    </tr>\n",
       "    <tr>\n",
       "      <th>7</th>\n",
       "      <td>Ajax</td>\n",
       "      <td>Tottenham Hotspur</td>\n",
       "      <td>Benfica</td>\n",
       "      <td>Copenhagen</td>\n",
       "    </tr>\n",
       "  </tbody>\n",
       "</table>\n",
       "</div>"
      ],
      "text/plain": [
       "                 Pot 1               Pot 2              Pot 3           Pot 4\n",
       "0                                Liverpool  Borussia Dortmund     Club Brugge\n",
       "1  Eintracht Frankfurt             Chelsea           Salzburg          Celtic\n",
       "2      Manchester City           Barcelona   Shakhtar Donetsk   Maccabi Haifa\n",
       "3             AC Milan            Juventus              Inter  Viktoria Plzen\n",
       "4       Bayern München  Atletico de Madrid             Napoli       Marseille\n",
       "5  Paris Saint-Germain             Sevilla        Sporting CP         Rangers\n",
       "6                Porto          RB Leipzig   Bayer Leverkusen   Dinamo Zagreb\n",
       "7                 Ajax   Tottenham Hotspur            Benfica      Copenhagen"
      ]
     },
     "execution_count": 236,
     "metadata": {},
     "output_type": "execute_result"
    }
   ],
   "source": [
    "pots.at[number, 'Pot 1'] = ''\n",
    "pots"
   ]
  },
  {
   "cell_type": "code",
   "execution_count": 237,
   "metadata": {},
   "outputs": [
    {
     "data": {
      "text/plain": [
       "5"
      ]
     },
     "execution_count": 237,
     "metadata": {},
     "output_type": "execute_result"
    }
   ],
   "source": [
    "number2 = np.random.randint(low=0, high=7,dtype=int)\n",
    "if pots.at[number2, 'Pot 1'] == '':\n",
    "    number2=np.random.randint(low=0, high=7,dtype=int)\n",
    "number2"
   ]
  },
  {
   "cell_type": "code",
   "execution_count": 238,
   "metadata": {},
   "outputs": [
    {
     "name": "stdout",
     "output_type": "stream",
     "text": [
      "Paris Saint-Germain\n"
     ]
    }
   ],
   "source": [
    "selection = pots.at[number2, 'Pot 1']\n",
    "print(selection)\n"
   ]
  },
  {
   "cell_type": "code",
   "execution_count": 239,
   "metadata": {},
   "outputs": [
    {
     "data": {
      "text/html": [
       "<div>\n",
       "<style scoped>\n",
       "    .dataframe tbody tr th:only-of-type {\n",
       "        vertical-align: middle;\n",
       "    }\n",
       "\n",
       "    .dataframe tbody tr th {\n",
       "        vertical-align: top;\n",
       "    }\n",
       "\n",
       "    .dataframe thead th {\n",
       "        text-align: right;\n",
       "    }\n",
       "</style>\n",
       "<table border=\"1\" class=\"dataframe\">\n",
       "  <thead>\n",
       "    <tr style=\"text-align: right;\">\n",
       "      <th></th>\n",
       "      <th>A</th>\n",
       "      <th>B</th>\n",
       "      <th>C</th>\n",
       "      <th>D</th>\n",
       "      <th>E</th>\n",
       "      <th>F</th>\n",
       "      <th>G</th>\n",
       "      <th>H</th>\n",
       "    </tr>\n",
       "  </thead>\n",
       "  <tbody>\n",
       "    <tr>\n",
       "      <th>0</th>\n",
       "      <td>Real Madrid</td>\n",
       "      <td>Paris Saint-Germain</td>\n",
       "      <td>NaN</td>\n",
       "      <td>NaN</td>\n",
       "      <td>NaN</td>\n",
       "      <td>NaN</td>\n",
       "      <td>NaN</td>\n",
       "      <td>NaN</td>\n",
       "    </tr>\n",
       "  </tbody>\n",
       "</table>\n",
       "</div>"
      ],
      "text/plain": [
       "             A                    B    C    D    E    F    G    H\n",
       "0  Real Madrid  Paris Saint-Germain  NaN  NaN  NaN  NaN  NaN  NaN"
      ]
     },
     "execution_count": 239,
     "metadata": {},
     "output_type": "execute_result"
    }
   ],
   "source": [
    "groups.at[iB ,'B'] = selection\n",
    "iB = iB+1\n",
    "groups"
   ]
  },
  {
   "cell_type": "code",
   "execution_count": 240,
   "metadata": {},
   "outputs": [
    {
     "data": {
      "text/html": [
       "<div>\n",
       "<style scoped>\n",
       "    .dataframe tbody tr th:only-of-type {\n",
       "        vertical-align: middle;\n",
       "    }\n",
       "\n",
       "    .dataframe tbody tr th {\n",
       "        vertical-align: top;\n",
       "    }\n",
       "\n",
       "    .dataframe thead th {\n",
       "        text-align: right;\n",
       "    }\n",
       "</style>\n",
       "<table border=\"1\" class=\"dataframe\">\n",
       "  <thead>\n",
       "    <tr style=\"text-align: right;\">\n",
       "      <th></th>\n",
       "      <th>Pot 1</th>\n",
       "      <th>Pot 2</th>\n",
       "      <th>Pot 3</th>\n",
       "      <th>Pot 4</th>\n",
       "    </tr>\n",
       "  </thead>\n",
       "  <tbody>\n",
       "    <tr>\n",
       "      <th>0</th>\n",
       "      <td></td>\n",
       "      <td>Liverpool</td>\n",
       "      <td>Borussia Dortmund</td>\n",
       "      <td>Club Brugge</td>\n",
       "    </tr>\n",
       "    <tr>\n",
       "      <th>1</th>\n",
       "      <td>Eintracht Frankfurt</td>\n",
       "      <td>Chelsea</td>\n",
       "      <td>Salzburg</td>\n",
       "      <td>Celtic</td>\n",
       "    </tr>\n",
       "    <tr>\n",
       "      <th>2</th>\n",
       "      <td>Manchester City</td>\n",
       "      <td>Barcelona</td>\n",
       "      <td>Shakhtar Donetsk</td>\n",
       "      <td>Maccabi Haifa</td>\n",
       "    </tr>\n",
       "    <tr>\n",
       "      <th>3</th>\n",
       "      <td>AC Milan</td>\n",
       "      <td>Juventus</td>\n",
       "      <td>Inter</td>\n",
       "      <td>Viktoria Plzen</td>\n",
       "    </tr>\n",
       "    <tr>\n",
       "      <th>4</th>\n",
       "      <td>Bayern München</td>\n",
       "      <td>Atletico de Madrid</td>\n",
       "      <td>Napoli</td>\n",
       "      <td>Marseille</td>\n",
       "    </tr>\n",
       "    <tr>\n",
       "      <th>5</th>\n",
       "      <td></td>\n",
       "      <td>Sevilla</td>\n",
       "      <td>Sporting CP</td>\n",
       "      <td>Rangers</td>\n",
       "    </tr>\n",
       "    <tr>\n",
       "      <th>6</th>\n",
       "      <td>Porto</td>\n",
       "      <td>RB Leipzig</td>\n",
       "      <td>Bayer Leverkusen</td>\n",
       "      <td>Dinamo Zagreb</td>\n",
       "    </tr>\n",
       "    <tr>\n",
       "      <th>7</th>\n",
       "      <td>Ajax</td>\n",
       "      <td>Tottenham Hotspur</td>\n",
       "      <td>Benfica</td>\n",
       "      <td>Copenhagen</td>\n",
       "    </tr>\n",
       "  </tbody>\n",
       "</table>\n",
       "</div>"
      ],
      "text/plain": [
       "                 Pot 1               Pot 2              Pot 3           Pot 4\n",
       "0                                Liverpool  Borussia Dortmund     Club Brugge\n",
       "1  Eintracht Frankfurt             Chelsea           Salzburg          Celtic\n",
       "2      Manchester City           Barcelona   Shakhtar Donetsk   Maccabi Haifa\n",
       "3             AC Milan            Juventus              Inter  Viktoria Plzen\n",
       "4       Bayern München  Atletico de Madrid             Napoli       Marseille\n",
       "5                                  Sevilla        Sporting CP         Rangers\n",
       "6                Porto          RB Leipzig   Bayer Leverkusen   Dinamo Zagreb\n",
       "7                 Ajax   Tottenham Hotspur            Benfica      Copenhagen"
      ]
     },
     "execution_count": 240,
     "metadata": {},
     "output_type": "execute_result"
    }
   ],
   "source": [
    "pots.at[number2, 'Pot 1'] = ''\n",
    "pots"
   ]
  },
  {
   "cell_type": "code",
   "execution_count": 241,
   "metadata": {},
   "outputs": [
    {
     "data": {
      "text/plain": [
       "3"
      ]
     },
     "execution_count": 241,
     "metadata": {},
     "output_type": "execute_result"
    }
   ],
   "source": [
    "number3 = np.random.randint(low=0, high=7,dtype=int)\n",
    "if pots.at[number3, 'Pot 1'] == '':\n",
    "    number3=np.random.randint(low=0, high=7,dtype=int)\n",
    "number3"
   ]
  },
  {
   "cell_type": "code",
   "execution_count": 242,
   "metadata": {},
   "outputs": [
    {
     "name": "stdout",
     "output_type": "stream",
     "text": [
      "AC Milan\n"
     ]
    }
   ],
   "source": [
    "selection = pots.at[number3, 'Pot 1']\n",
    "print(selection)"
   ]
  },
  {
   "cell_type": "code",
   "execution_count": 243,
   "metadata": {},
   "outputs": [
    {
     "data": {
      "text/html": [
       "<div>\n",
       "<style scoped>\n",
       "    .dataframe tbody tr th:only-of-type {\n",
       "        vertical-align: middle;\n",
       "    }\n",
       "\n",
       "    .dataframe tbody tr th {\n",
       "        vertical-align: top;\n",
       "    }\n",
       "\n",
       "    .dataframe thead th {\n",
       "        text-align: right;\n",
       "    }\n",
       "</style>\n",
       "<table border=\"1\" class=\"dataframe\">\n",
       "  <thead>\n",
       "    <tr style=\"text-align: right;\">\n",
       "      <th></th>\n",
       "      <th>A</th>\n",
       "      <th>B</th>\n",
       "      <th>C</th>\n",
       "      <th>D</th>\n",
       "      <th>E</th>\n",
       "      <th>F</th>\n",
       "      <th>G</th>\n",
       "      <th>H</th>\n",
       "    </tr>\n",
       "  </thead>\n",
       "  <tbody>\n",
       "    <tr>\n",
       "      <th>0</th>\n",
       "      <td>Real Madrid</td>\n",
       "      <td>Paris Saint-Germain</td>\n",
       "      <td>AC Milan</td>\n",
       "      <td>NaN</td>\n",
       "      <td>NaN</td>\n",
       "      <td>NaN</td>\n",
       "      <td>NaN</td>\n",
       "      <td>NaN</td>\n",
       "    </tr>\n",
       "  </tbody>\n",
       "</table>\n",
       "</div>"
      ],
      "text/plain": [
       "             A                    B         C    D    E    F    G    H\n",
       "0  Real Madrid  Paris Saint-Germain  AC Milan  NaN  NaN  NaN  NaN  NaN"
      ]
     },
     "execution_count": 243,
     "metadata": {},
     "output_type": "execute_result"
    }
   ],
   "source": [
    "groups.at[iC ,'C'] = selection\n",
    "iC = iC+1\n",
    "groups"
   ]
  },
  {
   "cell_type": "code",
   "execution_count": 244,
   "metadata": {},
   "outputs": [
    {
     "data": {
      "text/html": [
       "<div>\n",
       "<style scoped>\n",
       "    .dataframe tbody tr th:only-of-type {\n",
       "        vertical-align: middle;\n",
       "    }\n",
       "\n",
       "    .dataframe tbody tr th {\n",
       "        vertical-align: top;\n",
       "    }\n",
       "\n",
       "    .dataframe thead th {\n",
       "        text-align: right;\n",
       "    }\n",
       "</style>\n",
       "<table border=\"1\" class=\"dataframe\">\n",
       "  <thead>\n",
       "    <tr style=\"text-align: right;\">\n",
       "      <th></th>\n",
       "      <th>Pot 1</th>\n",
       "      <th>Pot 2</th>\n",
       "      <th>Pot 3</th>\n",
       "      <th>Pot 4</th>\n",
       "    </tr>\n",
       "  </thead>\n",
       "  <tbody>\n",
       "    <tr>\n",
       "      <th>0</th>\n",
       "      <td></td>\n",
       "      <td>Liverpool</td>\n",
       "      <td>Borussia Dortmund</td>\n",
       "      <td>Club Brugge</td>\n",
       "    </tr>\n",
       "    <tr>\n",
       "      <th>1</th>\n",
       "      <td>Eintracht Frankfurt</td>\n",
       "      <td>Chelsea</td>\n",
       "      <td>Salzburg</td>\n",
       "      <td>Celtic</td>\n",
       "    </tr>\n",
       "    <tr>\n",
       "      <th>2</th>\n",
       "      <td>Manchester City</td>\n",
       "      <td>Barcelona</td>\n",
       "      <td>Shakhtar Donetsk</td>\n",
       "      <td>Maccabi Haifa</td>\n",
       "    </tr>\n",
       "    <tr>\n",
       "      <th>3</th>\n",
       "      <td></td>\n",
       "      <td>Juventus</td>\n",
       "      <td>Inter</td>\n",
       "      <td>Viktoria Plzen</td>\n",
       "    </tr>\n",
       "    <tr>\n",
       "      <th>4</th>\n",
       "      <td>Bayern München</td>\n",
       "      <td>Atletico de Madrid</td>\n",
       "      <td>Napoli</td>\n",
       "      <td>Marseille</td>\n",
       "    </tr>\n",
       "    <tr>\n",
       "      <th>5</th>\n",
       "      <td></td>\n",
       "      <td>Sevilla</td>\n",
       "      <td>Sporting CP</td>\n",
       "      <td>Rangers</td>\n",
       "    </tr>\n",
       "    <tr>\n",
       "      <th>6</th>\n",
       "      <td>Porto</td>\n",
       "      <td>RB Leipzig</td>\n",
       "      <td>Bayer Leverkusen</td>\n",
       "      <td>Dinamo Zagreb</td>\n",
       "    </tr>\n",
       "    <tr>\n",
       "      <th>7</th>\n",
       "      <td>Ajax</td>\n",
       "      <td>Tottenham Hotspur</td>\n",
       "      <td>Benfica</td>\n",
       "      <td>Copenhagen</td>\n",
       "    </tr>\n",
       "  </tbody>\n",
       "</table>\n",
       "</div>"
      ],
      "text/plain": [
       "                 Pot 1               Pot 2              Pot 3           Pot 4\n",
       "0                                Liverpool  Borussia Dortmund     Club Brugge\n",
       "1  Eintracht Frankfurt             Chelsea           Salzburg          Celtic\n",
       "2      Manchester City           Barcelona   Shakhtar Donetsk   Maccabi Haifa\n",
       "3                                 Juventus              Inter  Viktoria Plzen\n",
       "4       Bayern München  Atletico de Madrid             Napoli       Marseille\n",
       "5                                  Sevilla        Sporting CP         Rangers\n",
       "6                Porto          RB Leipzig   Bayer Leverkusen   Dinamo Zagreb\n",
       "7                 Ajax   Tottenham Hotspur            Benfica      Copenhagen"
      ]
     },
     "execution_count": 244,
     "metadata": {},
     "output_type": "execute_result"
    }
   ],
   "source": [
    "pots.at[number3, 'Pot 1'] = ''\n",
    "pots"
   ]
  }
 ],
 "metadata": {
  "kernelspec": {
   "display_name": "Python 3.10.6 64-bit",
   "language": "python",
   "name": "python3"
  },
  "language_info": {
   "codemirror_mode": {
    "name": "ipython",
    "version": 3
   },
   "file_extension": ".py",
   "mimetype": "text/x-python",
   "name": "python",
   "nbconvert_exporter": "python",
   "pygments_lexer": "ipython3",
   "version": "3.10.6"
  },
  "orig_nbformat": 4,
  "vscode": {
   "interpreter": {
    "hash": "aee8b7b246df8f9039afb4144a1f6fd8d2ca17a180786b69acc140d282b71a49"
   }
  }
 },
 "nbformat": 4,
 "nbformat_minor": 2
}
